{
 "cells": [
  {
   "cell_type": "code",
   "execution_count": null,
   "id": "28a1e334-6170-48af-91a6-af0b92fefc28",
   "metadata": {},
   "outputs": [],
   "source": []
  },
  {
   "cell_type": "code",
   "execution_count": 3,
   "id": "36dc70f1-7344-471a-ba89-7b2a5a3d844e",
   "metadata": {},
   "outputs": [
    {
     "name": "stdout",
     "output_type": "stream",
     "text": [
      "212 degrees Fahrenheit is equal to 100.00 degrees Celsius.\n"
     ]
    }
   ],
   "source": [
    "#Malebo Madihlaba\n",
    "#FA 115392\n",
    "#Question 1\n",
    "#Python program to convert degrees Fahrenheit to degrees Celsius\n",
    "\n",
    "#Python program to convert degrees Fahrenheit to degrees Celsius\n",
    "class TemperatureConverter:\n",
    "    def __init__(self, fahrenheit):\n",
    "        self.fahrenheit = fahrenheit\n",
    "\n",
    "    def convert_to_celsius(self):\n",
    "        celsius = (self.fahrenheit - 32) * 5/9\n",
    "        return celsius\n",
    "\n",
    "# Test data\n",
    "temperature_f = 212\n",
    "converter = TemperatureConverter(temperature_f)\n",
    "result = converter.convert_to_celsius()\n",
    "print(f\"{temperature_f} degrees Fahrenheit is equal to {result:.2f} degrees Celsius.\")"
   ]
  },
  {
   "cell_type": "code",
   "execution_count": 4,
   "id": "73ac170a-8e06-4cfa-8363-26c00324b2fc",
   "metadata": {},
   "outputs": [
    {
     "name": "stdout",
     "output_type": "stream",
     "text": [
      "1000.0 inch is 25.4 meters\n"
     ]
    }
   ],
   "source": [
    "#Question 2\n",
    "# Write a Python program that reads a number in inches, converts it to meters. \n",
    "inch_to_meter = 0.0254\n",
    "\n",
    "# Read Input value in inches\n",
    "inch = 1000.0\n",
    "\n",
    "# Convert the input value to meters\n",
    "meter = inch * inch_to_meter\n",
    "\n",
    "# Print the result\n",
    "print(f\"{inch} inch is {meter} meters\")"
   ]
  },
  {
   "cell_type": "code",
   "execution_count": 5,
   "id": "10611a60-133d-4bfd-b1c6-1b1f49a7514c",
   "metadata": {},
   "outputs": [
    {
     "name": "stdout",
     "output_type": "stream",
     "text": [
      "Current time is 12:24:45\n"
     ]
    }
   ],
   "source": [
    "#Question 3\n",
    "#Write a Python program that prints the current time in GMT. \n",
    "import datetime\n",
    "import pytz\n",
    "\n",
    "# Get the current time in GMT\n",
    "gmt_time = datetime.datetime.now(pytz.timezone('GMT'))\n",
    "\n",
    "# Format the time as HH:MM:SS\n",
    "formatted_time = gmt_time.strftime(\"%H:%M:%S\")\n",
    "\n",
    "print(\"Current time is\", formatted_time)"
   ]
  },
  {
   "cell_type": "code",
   "execution_count": 6,
   "id": "6220d017-12a1-4521-ba2d-ecdeefa692ad",
   "metadata": {},
   "outputs": [
    {
     "name": "stdout",
     "output_type": "stream",
     "text": [
      "Your speed in meters/second is 0.11691531\n",
      "Your speed in km/h is 0.42089510\n",
      "Your speed in miles/h is 0.26158801\n"
     ]
    }
   ],
   "source": [
    "#question 4\n",
    "# Input conversion factors\n",
    "meter_to_kilometer = 0.001\n",
    "meter_to_mile = 1 / 1609\n",
    "\n",
    "# Test data\n",
    "distance_meters = 2500\n",
    "hours = 5\n",
    "minutes = 56\n",
    "seconds = 23\n",
    "\n",
    "# Convert time to seconds\n",
    "total_seconds = hours * 3600 + minutes * 60 + seconds\n",
    "\n",
    "# Calculate speed in meters per second\n",
    "speed_mps = distance_meters / total_seconds\n",
    "\n",
    "# Calculate speed in kilometers per hour\n",
    "speed_kmh = speed_mps * 3600 * meter_to_kilometer\n",
    "\n",
    "# Calculate speed in miles per hour\n",
    "speed_mph = speed_mps * 3600 * meter_to_mile\n",
    "\n",
    "# Print the results\n",
    "print(\"Your speed in meters/second is {:.8f}\".format(speed_mps))\n",
    "print(\"Your speed in km/h is {:.8f}\".format(speed_kmh))\n",
    "print(\"Your speed in miles/h is {:.8f}\".format(speed_mph))\n"
   ]
  },
  {
   "cell_type": "code",
   "execution_count": 7,
   "id": "5a99842a-8cdc-4ec1-8539-429d418a2eda",
   "metadata": {},
   "outputs": [
    {
     "name": "stdout",
     "output_type": "stream",
     "text": [
      "Hello\n",
      "Alexandra Abramov\n"
     ]
    }
   ],
   "source": [
    "# Print 'Hello' and then the name on a separate line\n",
    "print(\"Hello\")\n",
    "print(\"Alexandra Abramov\")"
   ]
  },
  {
   "cell_type": "code",
   "execution_count": 8,
   "id": "6fb49aa0-92a0-4f57-8eab-26bf5025a896",
   "metadata": {},
   "outputs": [
    {
     "name": "stdout",
     "output_type": "stream",
     "text": [
      "Sum: 149\n",
      "Multiply: 3000\n",
      "Subtract: 101\n",
      "Divide: 5.208333333333333\n",
      "Remainder: 5\n"
     ]
    }
   ],
   "source": [
    "# Read input values\n",
    "num1 = 125\n",
    "num2 = 24\n",
    "\n",
    "# Calculate and print the results\n",
    "print(\"Sum:\", num1 + num2)\n",
    "print(\"Multiply:\", num1 * num2)\n",
    "print(\"Subtract:\", num1 - num2)\n",
    "print(\"Divide:\", num1 / num2)\n",
    "print(\"Remainder:\", num1 % num2)"
   ]
  },
  {
   "cell_type": "code",
   "execution_count": null,
   "id": "3c4e4442-dfe0-4f15-bdc9-80d69d70ec0a",
   "metadata": {},
   "outputs": [],
   "source": []
  }
 ],
 "metadata": {
  "kernelspec": {
   "display_name": "Python 3 (ipykernel)",
   "language": "python",
   "name": "python3"
  },
  "language_info": {
   "codemirror_mode": {
    "name": "ipython",
    "version": 3
   },
   "file_extension": ".py",
   "mimetype": "text/x-python",
   "name": "python",
   "nbconvert_exporter": "python",
   "pygments_lexer": "ipython3",
   "version": "3.11.7"
  }
 },
 "nbformat": 4,
 "nbformat_minor": 5
}
